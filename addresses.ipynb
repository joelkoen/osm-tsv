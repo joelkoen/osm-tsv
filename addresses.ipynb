{
 "cells": [
  {
   "cell_type": "code",
   "execution_count": 1,
   "id": "5cb993b3-9c1c-4b0d-801b-05ae4e547996",
   "metadata": {},
   "outputs": [],
   "source": [
    "import json\n",
    "from osgeo import ogr\n",
    "from shapely.geometry import mapping, shape\n",
    "import xml.etree.ElementTree as ET\n",
    "\n",
    "ogr.UseExceptions()\n",
    "\n",
    "raw = json.load(open(\"raw/properties.geojson\"))[\"features\"]"
   ]
  },
  {
   "cell_type": "code",
   "execution_count": 2,
   "id": "3127c4f8-585b-43ca-96c9-5fc225c90509",
   "metadata": {},
   "outputs": [],
   "source": [
    "# merge properties that have the same address\n",
    "\n",
    "addresses = {}\n",
    "for p in raw:\n",
    "    # ignore properties that do not have an address\n",
    "    if p[\"properties\"][\"houseno\"] == 0:\n",
    "        continue\n",
    "    # some nature reserves have house numbers but should still be ignored\n",
    "    if p[\"properties\"][\"propertytype\"] == \"RESERVE\":\n",
    "        continue\n",
    "\n",
    "    \n",
    "    \n",
    "    a = p[\"properties\"][\"houseaddress\"]\n",
    "    if a in addresses:\n",
    "        addresses[a][\"geometry\"] = mapping(\n",
    "            shape(addresses[a][\"geometry\"]).union(shape(p[\"geometry\"]))\n",
    "        )\n",
    "        addresses[a][\"properties\"][\"propertyno\"] = (\n",
    "            str(addresses[a][\"properties\"][\"propertyno\"])\n",
    "            + \";\"\n",
    "            + str(p[\"properties\"][\"propertyno\"])\n",
    "        )\n",
    "    else:\n",
    "        addresses[a] = p"
   ]
  },
  {
   "cell_type": "code",
   "execution_count": 3,
   "id": "2556b9ca-84ce-4633-8a06-ce43751ab306",
   "metadata": {},
   "outputs": [],
   "source": [
    "# convert and export\n",
    "\n",
    "root = ET.Element(\"osm\", version=\"0.6\", generator=\"JOSM\")\n",
    "xml_id = -1\n",
    "\n",
    "for a, p in addresses.items():\n",
    "    ps = p[\"properties\"]\n",
    "    geom = ogr.CreateGeometryFromJson(json.dumps(p[\"geometry\"]))\n",
    "\n",
    "    tags = {\n",
    "        \"addr:housenumber\": str(ps[\"houseno\"]),\n",
    "        \"addr:street\": ps[\"streetname\"],\n",
    "        \"source:addr\": \"Townsville City Council\",\n",
    "    }\n",
    "    \n",
    "    if ps[\"housenoto\"] == 0:\n",
    "        tags[\"addr:housenumber\"] += ps[\"housenosuffix\"]\n",
    "    else:\n",
    "        tags[\"addr:housenumber\"] += \"-\" + str(ps[\"housenoto\"])\n",
    "        \n",
    "    if ps[\"unitno\"] != 0:\n",
    "        tags[\"addr:unit\"] = str(ps[\"unitno\"]) + ps[\"unitnosuffix\"]\n",
    "        if ps[\"unitnoto\"] != 0:\n",
    "            tags[\"addr:unit\"] += \"-\" + str(ps[\"unitnoto\"]) + ps[\"unitnotosuffix\"]\n",
    "\n",
    "    # generate XML for JOSM\n",
    "    point = geom.PointOnSurface().GetPoint()\n",
    "    node = ET.SubElement(\n",
    "        root, \"node\", id=str(xml_id), lat=str(point[1]), lon=str(point[0])\n",
    "    )\n",
    "    xml_id -= 1\n",
    "    for k, v in tags.items():\n",
    "        ET.SubElement(node, \"tag\", k=k, v=str(v))\n",
    "\n",
    "\n",
    "ET.ElementTree(root).write(\"osm/addresses.osm\")"
   ]
  }
 ],
 "metadata": {
  "kernelspec": {
   "display_name": "Python 3 (ipykernel)",
   "language": "python",
   "name": "python3"
  },
  "language_info": {
   "codemirror_mode": {
    "name": "ipython",
    "version": 3
   },
   "file_extension": ".py",
   "mimetype": "text/x-python",
   "name": "python",
   "nbconvert_exporter": "python",
   "pygments_lexer": "ipython3",
   "version": "3.11.7"
  }
 },
 "nbformat": 4,
 "nbformat_minor": 5
}
